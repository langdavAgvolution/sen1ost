{
 "cells": [
  {
   "cell_type": "code",
   "execution_count": 1,
   "metadata": {},
   "outputs": [],
   "source": [
    "from pathlib import Path\n",
    "from pprint import pprint\n",
    "from ost import Sentinel1Batch\n",
    "from ost.helpers import vector, raster\n",
    "import json\n",
    "import gdal\n",
    "import os\n",
    "\n",
    "# load username and pw to access sentinel files\n",
    "username = json.load(open('login_data.json'))['username']\n",
    "pw = json.load(open('login_data.json'))['pw']\n",
    "\n",
    "# define the project directory\n",
    "project_dir = Path.home() / \"Documents\" / \"Python\" / \"sen1_ost\" / \"data\""
   ]
  },
  {
   "cell_type": "code",
   "execution_count": 2,
   "metadata": {},
   "outputs": [],
   "source": [
    "# aoi file name\n",
    "aoi_file = 'test_shape2.geojson'\n",
    "\n",
    "# define the start and end date\n",
    "start = \"2020-05-01\"\n",
    "end = \"2020-05-31\"\n",
    "\n",
    "# define product\n",
    "key = \"ASCENDING_VVVH\""
   ]
  },
  {
   "cell_type": "code",
   "execution_count": null,
   "metadata": {},
   "outputs": [],
   "source": [
    "# create buffer around aoi\n",
    "vector.buffer_shape(str(project_dir) + '/aoi/' + aoi_file, str(project_dir) + '/aoi/aoi_tmp' ,buffer=0.01)\n",
    "aoi = vector.aoi_to_wkt(str(project_dir) + '/aoi/aoi_tmp')\n",
    "\n",
    "# initialize the class to s1_grd instance\n",
    "s1_grd = Sentinel1Batch(\n",
    "    project_dir=project_dir,\n",
    "    aoi=aoi,\n",
    "    start=start,\n",
    "    end=end,\n",
    "    product_type=\"GRD\",\n",
    "    beam_mode=\"IW\",\n",
    "    polarisation=\"*\",\n",
    "    ard_type=\"OST-RTC\", #Radiometrically Terrain Corrected, images are corrected for radiometric distortions along mountainous slopes\n",
    "    max_workers=8,\n",
    ")\n",
    "\n",
    "# search for files\n",
    "# added scihub username and pw in Project.py line 260\n",
    "if not s1_grd.inventory_file:\n",
    "    s1_grd.search()\n",
    "\n",
    "# refine inventory\n",
    "s1_grd.refine_inventory()\n",
    "\n",
    "# download ascending orbit images\n",
    "s1_grd.download(s1_grd.refined_inventory_dict[key], concurrent=10, mirror = '2', uname=username, pword=pw)\n",
    "\n",
    "# set ard parameters\n",
    "s1_grd.ard_parameters[\"single_ARD\"][\"resolution\"] = 10  # set output resolution to 100m\n",
    "s1_grd.ard_parameters[\"single_ARD\"][\"remove_speckle\"] = True  # apply a speckle filter\n",
    "s1_grd.ard_parameters[\"single_ARD\"][\"to_db\"] = True\n",
    "# s1_grd.ard_parameters[\"mosaic\"][\"cut_to_aoi\"] = False\n",
    "# s1_grd.ard_parameters[\"single_ARD\"][\"apply_ls_mask\"] = True\n",
    "# s1_grd.ard_parameters[\"single_ARD\"][\"to_tif\"] = True\n",
    "# s1_grd.ard_parameters[\"single_ARD\"][\"out_projection\"] = 3857\n",
    "\n",
    "# preprocess\n",
    "s1_grd.grds_to_ards(\n",
    "    inventory_df=s1_grd.refined_inventory_dict[key],\n",
    "    timeseries=False,\n",
    "    timescan=False,\n",
    "    mosaic=True,\n",
    "    overwrite=True,\n",
    "    max_workers=8,\n",
    ")\n",
    "\n",
    "# convert to tiff and cut to aoi shape\n",
    "for u in ['Gamma0_VV_db','Gamma0_VH_db']:\n",
    "# for u in ['Gamma0_VV','Gamma0_VH']:\n",
    "    paths = list(Path(project_dir).rglob(str(u + '.img')))\n",
    "    for i in paths:\n",
    "        inpath = str(i)\n",
    "        outpath = str(project_dir) + '/out/' + u + '_' + os.path.split(os.path.split(os.path.split(i)[0])[0])[1] + '.tiff'\n",
    "        ds = gdal.Open(inpath)\n",
    "        ds = gdal.Translate(outpath, ds)\n",
    "        ds = None\n",
    "        raster.mask_by_shape(outpath,outpath, str(project_dir) + '/aoi/' + aoi_file, rescale=False, description=False, to_db=False)"
   ]
  }
 ],
 "metadata": {
  "kernelspec": {
   "display_name": ".venv",
   "language": "python",
   "name": "python3"
  },
  "language_info": {
   "codemirror_mode": {
    "name": "ipython",
    "version": 3
   },
   "file_extension": ".py",
   "mimetype": "text/x-python",
   "name": "python",
   "nbconvert_exporter": "python",
   "pygments_lexer": "ipython3",
   "version": "3.8.10"
  },
  "orig_nbformat": 4,
  "vscode": {
   "interpreter": {
    "hash": "8a6d053fafb6946b5f2215e7f270f53638459c2072c8b18dcf80e53d419c948d"
   }
  }
 },
 "nbformat": 4,
 "nbformat_minor": 2
}
