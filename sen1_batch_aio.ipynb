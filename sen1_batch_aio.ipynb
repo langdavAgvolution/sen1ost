{
 "cells": [
  {
   "cell_type": "code",
   "execution_count": null,
   "metadata": {},
   "outputs": [],
   "source": [
    "from pathlib import Path\n",
    "from pprint import pprint\n",
    "from ost import Sentinel1Batch\n",
    "from ost.helpers import vector, raster\n",
    "\n",
    "# define the project directory\n",
    "project_dir = Path.home() / \"Documents\" / \"Python\" / \"sen1_ost\" / \"data\"\n",
    "\n",
    "# aoi file name\n",
    "aoi_file = 'test_shape2.geojson'\n",
    "\n",
    "# create buffer around aoi\n",
    "vector.buffer_shape(str(project_dir) + '/aoi/' + aoi_file, str(project_dir) + '/aoi/aoi_tmp' ,buffer=0.01)\n",
    "aoi = vector.aoi_to_wkt(str(project_dir) + '/aoi/aoi_tmp')\n",
    "\n",
    "# define the start and end date\n",
    "start = \"2020-05-01\"\n",
    "end = \"2020-05-31\"\n",
    "\n",
    "# initialize the class to s1_grd instance\n",
    "s1_grd = Sentinel1Batch(\n",
    "    project_dir=project_dir,\n",
    "    aoi=aoi,\n",
    "    start=start,\n",
    "    end=end,\n",
    "    product_type=\"GRD\",\n",
    "    beam_mode=\"IW\",\n",
    "    polarisation=\"*\",\n",
    "    ard_type=\"OST-RTC\", #Radiometrically Terrain Corrected, images are corrected for radiometric distortions along mountainous slopes\n",
    "    max_workers=8,\n",
    ")\n",
    "\n",
    "# search for files\n",
    "# added scihub username and pw in Project.py line 260\n",
    "if not s1_grd.inventory_file:\n",
    "    s1_grd.search()\n",
    "\n",
    "# refine inventory\n",
    "s1_grd.refine_inventory()\n",
    "\n",
    "# download ascending orbit images\n",
    "key = \"ASCENDING_VVVH\"\n",
    "s1_grd.download(s1_grd.refined_inventory_dict[key], concurrent=10, mirror = '2', uname='langdav', pword='SoLaDaSon_160317')"
   ]
  }
 ],
 "metadata": {
  "kernelspec": {
   "display_name": "Python 3",
   "language": "python",
   "name": "python3"
  },
  "language_info": {
   "name": "python",
   "version": "3.8.10"
  },
  "orig_nbformat": 4,
  "vscode": {
   "interpreter": {
    "hash": "916dbcbb3f70747c44a77c7bcd40155683ae19c65e1c03b4aa3499c5328201f1"
   }
  }
 },
 "nbformat": 4,
 "nbformat_minor": 2
}
