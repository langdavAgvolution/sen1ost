{
 "cells": [
  {
   "cell_type": "code",
   "execution_count": 1,
   "metadata": {},
   "outputs": [],
   "source": [
    "from pathlib import Path\n",
    "from pprint import pprint\n",
    "from ost import Sentinel1Batch\n",
    "from ost.helpers import vector, raster\n",
    "import json\n",
    "import gdal\n",
    "import os\n",
    "\n",
    "# load username and pw to access sentinel files\n",
    "username = json.load(open('login_data.json'))['username']\n",
    "pw = json.load(open('login_data.json'))['pw']\n",
    "\n",
    "# define the project directory\n",
    "project_dir = Path.home() / \"Documents\" / \"Python\" / \"sen1_ost\" / \"data\""
   ]
  },
  {
   "cell_type": "code",
   "execution_count": 2,
   "metadata": {},
   "outputs": [],
   "source": [
    "niedersachsen_fields = json.load(open('data/aoi/niedersachsen.geojson'))"
   ]
  },
  {
   "cell_type": "code",
   "execution_count": 3,
   "metadata": {},
   "outputs": [],
   "source": [
    "target_len = 15\n",
    "\n",
    "for field_no in range(0,10):\n",
    "    single_field = niedersachsen_fields['features'][field_no]\n",
    "    output = {\"type\":\"FeatureCollection\",\"features\":[]}\n",
    "\n",
    "    len_list = sorted([[idx, len(elem[0])] for idx, elem in enumerate(single_field['geometry']['coordinates'])],key=lambda x: x[1],reverse=True)[:target_len]\n",
    "    reg_len = [i[0] for i in len_list]\n",
    "\n",
    "    for idx, poly in enumerate(single_field['geometry']['coordinates']):\n",
    "        if len(single_field['geometry']['coordinates'])<target_len or idx in reg_len:\n",
    "            xfeature = {\"type\":\"Feature\", \"geometry\":{\"type\":\"Polygon\"}}\n",
    "            xfeature['geometry']['coordinates'] = poly\n",
    "            output['features'].append(xfeature)\n",
    "            open('data/temp/test_' + str(field_no) + '.geojson', 'w').write(json.dumps(output,separators=(',',':'),ensure_ascii=False).replace('}},','}},\\n'))\n",
    "\n",
    "    # add rest of preprocessing\n"
   ]
  },
  {
   "cell_type": "code",
   "execution_count": null,
   "metadata": {},
   "outputs": [],
   "source": []
  }
 ],
 "metadata": {
  "kernelspec": {
   "display_name": ".venv",
   "language": "python",
   "name": "python3"
  },
  "language_info": {
   "codemirror_mode": {
    "name": "ipython",
    "version": 3
   },
   "file_extension": ".py",
   "mimetype": "text/x-python",
   "name": "python",
   "nbconvert_exporter": "python",
   "pygments_lexer": "ipython3",
   "version": "3.8.10"
  },
  "orig_nbformat": 4,
  "vscode": {
   "interpreter": {
    "hash": "8a6d053fafb6946b5f2215e7f270f53638459c2072c8b18dcf80e53d419c948d"
   }
  }
 },
 "nbformat": 4,
 "nbformat_minor": 2
}
