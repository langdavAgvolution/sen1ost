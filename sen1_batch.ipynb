{
 "cells": [
  {
   "cell_type": "code",
   "execution_count": 2,
   "metadata": {},
   "outputs": [
    {
     "name": "stdout",
     "output_type": "stream",
     "text": [
      " INFO (11:52:55): Created project directory at /home/david/Documents/Python/sen1_ost/data\n",
      " INFO (11:52:55): Downloaded data will be stored in: /home/david/Documents/Python/sen1_ost/data/download.\n",
      " INFO (11:52:55): Inventory files will be stored in: /home/david/Documents/Python/sen1_ost/data/inventory.\n",
      " INFO (11:52:55): Processed data will be stored in: /home/david/Documents/Python/sen1_ost/data/processing.\n",
      " INFO (11:52:55): Using /home/david/Documents/Python/sen1_ost/data/temp as directory for temporary files.\n"
     ]
    }
   ],
   "source": [
    "from pathlib import Path\n",
    "from pprint import pprint\n",
    "from ost import Sentinel1Batch\n",
    "from ost.helpers import vector, raster\n",
    "\n",
    "# define the project directory\n",
    "project_dir = Path.home() / \"Documents\" / \"Python\" / \"sen1_ost\" / \"data\"\n",
    "\n",
    "# aoi file name\n",
    "aoi_file = 'test_shape2.geojson'\n",
    "\n",
    "# define aoi with a 2 point coordinates and create a buffer with 20km radius\n",
    "vector.buffer_shape(str(project_dir) + '/aoi/' + aoi_file, str(project_dir) + '/aoi/aoi_tmp' ,buffer=0.01)\n",
    "aoi = vector.aoi_to_wkt(str(project_dir) + '/aoi/aoi_tmp')\n",
    "\n",
    "# define the start and end date\n",
    "start = \"2020-05-01\"\n",
    "end = \"2020-05-31\"\n",
    "\n",
    "# initialize the class to s1_grd instance\n",
    "s1_grd = Sentinel1Batch(\n",
    "    project_dir=project_dir,\n",
    "    aoi=aoi,\n",
    "    start=start,\n",
    "    end=end,\n",
    "    product_type=\"GRD\",\n",
    "    beam_mode=\"IW\",\n",
    "    polarisation=\"*\",\n",
    "    ard_type=\"OST-RTC\", #Radiometrically Terrain Corrected, images are corrected for radiometric distortions along mountainous slopes\n",
    "    max_workers=8,\n",
    ")\n",
    "\n",
    "# do the search\n",
    "# added scihub username and pw in Project.py line 260\n",
    "if not s1_grd.inventory_file:\n",
    "    s1_grd.search()"
   ]
  },
  {
   "cell_type": "code",
   "execution_count": null,
   "metadata": {},
   "outputs": [],
   "source": [
    "# show orbits / plot inventory\n",
    "# %matplotlib inline\n",
    "# %pylab inline\n",
    "# pylab.rcParams[\"figure.figsize\"] = (19, 19)\n",
    "\n",
    "# s1_grd.plot_inventory(s1_grd.inventory, transparency=0.1)"
   ]
  },
  {
   "cell_type": "code",
   "execution_count": 3,
   "metadata": {},
   "outputs": [
    {
     "name": "stdout",
     "output_type": "stream",
     "text": [
      " INFO (11:52:58): Coverage analysis for ASCENDING tracks in VV VH polarisation.\n",
      " INFO (11:52:58): 11 frames for ASCENDING tracks in VV VH polarisation.\n",
      " INFO (11:52:58): 11 frames remain after double entry removal\n",
      " INFO (11:52:58): Excluding track 15\n",
      " INFO (11:52:58): Excluding track 88\n",
      " INFO (11:52:58): 6 frames remain after non-AOI overlap\n",
      " INFO (11:52:58): All remaining tracks fully overlap the AOI. Not removing anything.\n",
      " INFO (11:52:58):  6 frames remain after removal of non-full AOI crossing\n"
     ]
    },
    {
     "name": "stderr",
     "output_type": "stream",
     "text": [
      "/home/david/Documents/Python/sen1_ost/.venv/lib/python3.8/site-packages/ost/Project.py:352: FutureWarning: The `op` parameter is deprecated and will be removed in a future release. Please use the `predicate` parameter instead.\n",
      "  ) = refine_inventory.search_refinement(\n",
      "/home/david/Documents/Python/sen1_ost/.venv/lib/python3.8/site-packages/ost/s1/refine_inventory.py:246: FutureWarning: The frame.append method is deprecated and will be removed from pandas in a future version. Use pandas.concat instead.\n",
      "  out_frame = out_frame.append(gdf_date)\n",
      "/home/david/Documents/Python/sen1_ost/.venv/lib/python3.8/site-packages/geopandas/array.py:1406: UserWarning: CRS not set for some of the concatenation inputs. Setting output's CRS as WGS 84 (the single non-null crs provided).\n",
      "  warnings.warn(\n",
      "/home/david/Documents/Python/sen1_ost/.venv/lib/python3.8/site-packages/ost/s1/refine_inventory.py:246: FutureWarning: The frame.append method is deprecated and will be removed from pandas in a future version. Use pandas.concat instead.\n",
      "  out_frame = out_frame.append(gdf_date)\n",
      "/home/david/Documents/Python/sen1_ost/.venv/lib/python3.8/site-packages/ost/s1/refine_inventory.py:246: FutureWarning: The frame.append method is deprecated and will be removed from pandas in a future version. Use pandas.concat instead.\n",
      "  out_frame = out_frame.append(gdf_date)\n",
      "/home/david/Documents/Python/sen1_ost/.venv/lib/python3.8/site-packages/ost/s1/refine_inventory.py:246: FutureWarning: The frame.append method is deprecated and will be removed from pandas in a future version. Use pandas.concat instead.\n",
      "  out_frame = out_frame.append(gdf_date)\n",
      "/home/david/Documents/Python/sen1_ost/.venv/lib/python3.8/site-packages/ost/s1/refine_inventory.py:246: FutureWarning: The frame.append method is deprecated and will be removed from pandas in a future version. Use pandas.concat instead.\n",
      "  out_frame = out_frame.append(gdf_date)\n",
      "/home/david/Documents/Python/sen1_ost/.venv/lib/python3.8/site-packages/ost/s1/refine_inventory.py:246: FutureWarning: The frame.append method is deprecated and will be removed from pandas in a future version. Use pandas.concat instead.\n",
      "  out_frame = out_frame.append(gdf_date)\n",
      "/home/david/Documents/Python/sen1_ost/.venv/lib/python3.8/site-packages/ost/s1/refine_inventory.py:352: FutureWarning: The frame.append method is deprecated and will be removed from pandas in a future version. Use pandas.concat instead.\n",
      "  out_frame = out_frame.append(gdf)\n",
      "/home/david/Documents/Python/sen1_ost/.venv/lib/python3.8/site-packages/geopandas/array.py:1406: UserWarning: CRS not set for some of the concatenation inputs. Setting output's CRS as WGS 84 (the single non-null crs provided).\n",
      "  warnings.warn(\n",
      "/home/david/Documents/Python/sen1_ost/.venv/lib/python3.8/site-packages/ost/s1/refine_inventory.py:352: FutureWarning: The frame.append method is deprecated and will be removed from pandas in a future version. Use pandas.concat instead.\n",
      "  out_frame = out_frame.append(gdf)\n",
      "/home/david/Documents/Python/sen1_ost/.venv/lib/python3.8/site-packages/ost/s1/refine_inventory.py:352: FutureWarning: The frame.append method is deprecated and will be removed from pandas in a future version. Use pandas.concat instead.\n",
      "  out_frame = out_frame.append(gdf)\n",
      "/home/david/Documents/Python/sen1_ost/.venv/lib/python3.8/site-packages/ost/s1/refine_inventory.py:352: FutureWarning: The frame.append method is deprecated and will be removed from pandas in a future version. Use pandas.concat instead.\n",
      "  out_frame = out_frame.append(gdf)\n",
      "/home/david/Documents/Python/sen1_ost/.venv/lib/python3.8/site-packages/ost/s1/refine_inventory.py:352: FutureWarning: The frame.append method is deprecated and will be removed from pandas in a future version. Use pandas.concat instead.\n",
      "  out_frame = out_frame.append(gdf)\n",
      "/home/david/Documents/Python/sen1_ost/.venv/lib/python3.8/site-packages/ost/s1/refine_inventory.py:352: FutureWarning: The frame.append method is deprecated and will be removed from pandas in a future version. Use pandas.concat instead.\n",
      "  out_frame = out_frame.append(gdf)\n",
      "/home/david/Documents/Python/sen1_ost/.venv/lib/python3.8/site-packages/ost/s1/refine_inventory.py:433: FutureWarning: The frame.append method is deprecated and will be removed from pandas in a future version. Use pandas.concat instead.\n",
      "  temp_df = temp_df.append(track_gdf)\n",
      "/home/david/Documents/Python/sen1_ost/.venv/lib/python3.8/site-packages/geopandas/array.py:1406: UserWarning: CRS not set for some of the concatenation inputs. Setting output's CRS as WGS 84 (the single non-null crs provided).\n",
      "  warnings.warn(\n",
      "/home/david/Documents/Python/sen1_ost/.venv/lib/python3.8/site-packages/ost/s1/refine_inventory.py:451: FutureWarning: The frame.append method is deprecated and will be removed from pandas in a future version. Use pandas.concat instead.\n",
      "  out_frame = out_frame.append(temp_df)\n",
      "/home/david/Documents/Python/sen1_ost/.venv/lib/python3.8/site-packages/geopandas/array.py:1406: UserWarning: CRS not set for some of the concatenation inputs. Setting output's CRS as WGS 84 (the single non-null crs provided).\n",
      "  warnings.warn(\n",
      "/home/david/Documents/Python/sen1_ost/.venv/lib/python3.8/site-packages/ost/s1/refine_inventory.py:433: FutureWarning: The frame.append method is deprecated and will be removed from pandas in a future version. Use pandas.concat instead.\n",
      "  temp_df = temp_df.append(track_gdf)\n",
      "/home/david/Documents/Python/sen1_ost/.venv/lib/python3.8/site-packages/geopandas/array.py:1406: UserWarning: CRS not set for some of the concatenation inputs. Setting output's CRS as WGS 84 (the single non-null crs provided).\n",
      "  warnings.warn(\n",
      "/home/david/Documents/Python/sen1_ost/.venv/lib/python3.8/site-packages/ost/s1/refine_inventory.py:451: FutureWarning: The frame.append method is deprecated and will be removed from pandas in a future version. Use pandas.concat instead.\n",
      "  out_frame = out_frame.append(temp_df)\n",
      "/home/david/Documents/Python/sen1_ost/.venv/lib/python3.8/site-packages/ost/s1/refine_inventory.py:433: FutureWarning: The frame.append method is deprecated and will be removed from pandas in a future version. Use pandas.concat instead.\n",
      "  temp_df = temp_df.append(track_gdf)\n",
      "/home/david/Documents/Python/sen1_ost/.venv/lib/python3.8/site-packages/geopandas/array.py:1406: UserWarning: CRS not set for some of the concatenation inputs. Setting output's CRS as WGS 84 (the single non-null crs provided).\n",
      "  warnings.warn(\n",
      "/home/david/Documents/Python/sen1_ost/.venv/lib/python3.8/site-packages/ost/s1/refine_inventory.py:451: FutureWarning: The frame.append method is deprecated and will be removed from pandas in a future version. Use pandas.concat instead.\n",
      "  out_frame = out_frame.append(temp_df)\n",
      "/home/david/Documents/Python/sen1_ost/.venv/lib/python3.8/site-packages/ost/s1/refine_inventory.py:433: FutureWarning: The frame.append method is deprecated and will be removed from pandas in a future version. Use pandas.concat instead.\n",
      "  temp_df = temp_df.append(track_gdf)\n",
      "/home/david/Documents/Python/sen1_ost/.venv/lib/python3.8/site-packages/geopandas/array.py:1406: UserWarning: CRS not set for some of the concatenation inputs. Setting output's CRS as WGS 84 (the single non-null crs provided).\n",
      "  warnings.warn(\n",
      "/home/david/Documents/Python/sen1_ost/.venv/lib/python3.8/site-packages/ost/s1/refine_inventory.py:451: FutureWarning: The frame.append method is deprecated and will be removed from pandas in a future version. Use pandas.concat instead.\n",
      "  out_frame = out_frame.append(temp_df)\n"
     ]
    },
    {
     "name": "stdout",
     "output_type": "stream",
     "text": [
      " INFO (11:52:58): Found 6 full coverage mosaics.\n",
      " INFO (11:52:58): Coverage analysis for DESCENDING tracks in VV VH polarisation.\n",
      " INFO (11:52:58): 9 frames for DESCENDING tracks in VV VH polarisation.\n",
      " INFO (11:52:58): 9 frames remain after double entry removal\n",
      " INFO (11:52:58): Excluding track 66\n",
      " INFO (11:52:58): Excluding track 139\n",
      " INFO (11:52:58): 4 frames remain after non-AOI overlap\n",
      " INFO (11:52:58): All remaining tracks fully overlap the AOI. Not removing anything.\n",
      " INFO (11:52:58):  4 frames remain after removal of non-full AOI crossing\n"
     ]
    },
    {
     "name": "stderr",
     "output_type": "stream",
     "text": [
      "/home/david/Documents/Python/sen1_ost/.venv/lib/python3.8/site-packages/ost/s1/refine_inventory.py:433: FutureWarning: The frame.append method is deprecated and will be removed from pandas in a future version. Use pandas.concat instead.\n",
      "  temp_df = temp_df.append(track_gdf)\n",
      "/home/david/Documents/Python/sen1_ost/.venv/lib/python3.8/site-packages/geopandas/array.py:1406: UserWarning: CRS not set for some of the concatenation inputs. Setting output's CRS as WGS 84 (the single non-null crs provided).\n",
      "  warnings.warn(\n",
      "/home/david/Documents/Python/sen1_ost/.venv/lib/python3.8/site-packages/ost/s1/refine_inventory.py:451: FutureWarning: The frame.append method is deprecated and will be removed from pandas in a future version. Use pandas.concat instead.\n",
      "  out_frame = out_frame.append(temp_df)\n",
      "/home/david/Documents/Python/sen1_ost/.venv/lib/python3.8/site-packages/ost/s1/refine_inventory.py:433: FutureWarning: The frame.append method is deprecated and will be removed from pandas in a future version. Use pandas.concat instead.\n",
      "  temp_df = temp_df.append(track_gdf)\n",
      "/home/david/Documents/Python/sen1_ost/.venv/lib/python3.8/site-packages/geopandas/array.py:1406: UserWarning: CRS not set for some of the concatenation inputs. Setting output's CRS as WGS 84 (the single non-null crs provided).\n",
      "  warnings.warn(\n",
      "/home/david/Documents/Python/sen1_ost/.venv/lib/python3.8/site-packages/ost/s1/refine_inventory.py:451: FutureWarning: The frame.append method is deprecated and will be removed from pandas in a future version. Use pandas.concat instead.\n",
      "  out_frame = out_frame.append(temp_df)\n",
      "/home/david/Documents/Python/sen1_ost/.venv/lib/python3.8/site-packages/ost/Project.py:352: FutureWarning: The `op` parameter is deprecated and will be removed in a future release. Please use the `predicate` parameter instead.\n",
      "  ) = refine_inventory.search_refinement(\n",
      "/home/david/Documents/Python/sen1_ost/.venv/lib/python3.8/site-packages/ost/s1/refine_inventory.py:246: FutureWarning: The frame.append method is deprecated and will be removed from pandas in a future version. Use pandas.concat instead.\n",
      "  out_frame = out_frame.append(gdf_date)\n",
      "/home/david/Documents/Python/sen1_ost/.venv/lib/python3.8/site-packages/geopandas/array.py:1406: UserWarning: CRS not set for some of the concatenation inputs. Setting output's CRS as WGS 84 (the single non-null crs provided).\n",
      "  warnings.warn(\n",
      "/home/david/Documents/Python/sen1_ost/.venv/lib/python3.8/site-packages/ost/s1/refine_inventory.py:246: FutureWarning: The frame.append method is deprecated and will be removed from pandas in a future version. Use pandas.concat instead.\n",
      "  out_frame = out_frame.append(gdf_date)\n",
      "/home/david/Documents/Python/sen1_ost/.venv/lib/python3.8/site-packages/ost/s1/refine_inventory.py:246: FutureWarning: The frame.append method is deprecated and will be removed from pandas in a future version. Use pandas.concat instead.\n",
      "  out_frame = out_frame.append(gdf_date)\n",
      "/home/david/Documents/Python/sen1_ost/.venv/lib/python3.8/site-packages/ost/s1/refine_inventory.py:246: FutureWarning: The frame.append method is deprecated and will be removed from pandas in a future version. Use pandas.concat instead.\n",
      "  out_frame = out_frame.append(gdf_date)\n",
      "/home/david/Documents/Python/sen1_ost/.venv/lib/python3.8/site-packages/ost/s1/refine_inventory.py:352: FutureWarning: The frame.append method is deprecated and will be removed from pandas in a future version. Use pandas.concat instead.\n",
      "  out_frame = out_frame.append(gdf)\n",
      "/home/david/Documents/Python/sen1_ost/.venv/lib/python3.8/site-packages/geopandas/array.py:1406: UserWarning: CRS not set for some of the concatenation inputs. Setting output's CRS as WGS 84 (the single non-null crs provided).\n",
      "  warnings.warn(\n"
     ]
    },
    {
     "name": "stdout",
     "output_type": "stream",
     "text": [
      " INFO (11:52:59): Found 4 full coverage mosaics.\n",
      "--------------------------------------------\n",
      " Summing up the info about mosaics\n",
      "--------------------------------------------\n",
      "\n",
      " 6 mosaics for mosaic key ASCENDING_VVVH\n",
      "\n",
      " 4 mosaics for mosaic key DESCENDING_VVVH\n"
     ]
    },
    {
     "name": "stderr",
     "output_type": "stream",
     "text": [
      "/home/david/Documents/Python/sen1_ost/.venv/lib/python3.8/site-packages/ost/s1/refine_inventory.py:352: FutureWarning: The frame.append method is deprecated and will be removed from pandas in a future version. Use pandas.concat instead.\n",
      "  out_frame = out_frame.append(gdf)\n",
      "/home/david/Documents/Python/sen1_ost/.venv/lib/python3.8/site-packages/ost/s1/refine_inventory.py:352: FutureWarning: The frame.append method is deprecated and will be removed from pandas in a future version. Use pandas.concat instead.\n",
      "  out_frame = out_frame.append(gdf)\n",
      "/home/david/Documents/Python/sen1_ost/.venv/lib/python3.8/site-packages/ost/s1/refine_inventory.py:352: FutureWarning: The frame.append method is deprecated and will be removed from pandas in a future version. Use pandas.concat instead.\n",
      "  out_frame = out_frame.append(gdf)\n",
      "/home/david/Documents/Python/sen1_ost/.venv/lib/python3.8/site-packages/ost/s1/refine_inventory.py:433: FutureWarning: The frame.append method is deprecated and will be removed from pandas in a future version. Use pandas.concat instead.\n",
      "  temp_df = temp_df.append(track_gdf)\n",
      "/home/david/Documents/Python/sen1_ost/.venv/lib/python3.8/site-packages/geopandas/array.py:1406: UserWarning: CRS not set for some of the concatenation inputs. Setting output's CRS as WGS 84 (the single non-null crs provided).\n",
      "  warnings.warn(\n",
      "/home/david/Documents/Python/sen1_ost/.venv/lib/python3.8/site-packages/ost/s1/refine_inventory.py:451: FutureWarning: The frame.append method is deprecated and will be removed from pandas in a future version. Use pandas.concat instead.\n",
      "  out_frame = out_frame.append(temp_df)\n",
      "/home/david/Documents/Python/sen1_ost/.venv/lib/python3.8/site-packages/geopandas/array.py:1406: UserWarning: CRS not set for some of the concatenation inputs. Setting output's CRS as WGS 84 (the single non-null crs provided).\n",
      "  warnings.warn(\n",
      "/home/david/Documents/Python/sen1_ost/.venv/lib/python3.8/site-packages/ost/s1/refine_inventory.py:433: FutureWarning: The frame.append method is deprecated and will be removed from pandas in a future version. Use pandas.concat instead.\n",
      "  temp_df = temp_df.append(track_gdf)\n",
      "/home/david/Documents/Python/sen1_ost/.venv/lib/python3.8/site-packages/geopandas/array.py:1406: UserWarning: CRS not set for some of the concatenation inputs. Setting output's CRS as WGS 84 (the single non-null crs provided).\n",
      "  warnings.warn(\n",
      "/home/david/Documents/Python/sen1_ost/.venv/lib/python3.8/site-packages/ost/s1/refine_inventory.py:451: FutureWarning: The frame.append method is deprecated and will be removed from pandas in a future version. Use pandas.concat instead.\n",
      "  out_frame = out_frame.append(temp_df)\n",
      "/home/david/Documents/Python/sen1_ost/.venv/lib/python3.8/site-packages/ost/s1/refine_inventory.py:433: FutureWarning: The frame.append method is deprecated and will be removed from pandas in a future version. Use pandas.concat instead.\n",
      "  temp_df = temp_df.append(track_gdf)\n",
      "/home/david/Documents/Python/sen1_ost/.venv/lib/python3.8/site-packages/geopandas/array.py:1406: UserWarning: CRS not set for some of the concatenation inputs. Setting output's CRS as WGS 84 (the single non-null crs provided).\n",
      "  warnings.warn(\n",
      "/home/david/Documents/Python/sen1_ost/.venv/lib/python3.8/site-packages/ost/s1/refine_inventory.py:451: FutureWarning: The frame.append method is deprecated and will be removed from pandas in a future version. Use pandas.concat instead.\n",
      "  out_frame = out_frame.append(temp_df)\n",
      "/home/david/Documents/Python/sen1_ost/.venv/lib/python3.8/site-packages/ost/s1/refine_inventory.py:433: FutureWarning: The frame.append method is deprecated and will be removed from pandas in a future version. Use pandas.concat instead.\n",
      "  temp_df = temp_df.append(track_gdf)\n",
      "/home/david/Documents/Python/sen1_ost/.venv/lib/python3.8/site-packages/geopandas/array.py:1406: UserWarning: CRS not set for some of the concatenation inputs. Setting output's CRS as WGS 84 (the single non-null crs provided).\n",
      "  warnings.warn(\n",
      "/home/david/Documents/Python/sen1_ost/.venv/lib/python3.8/site-packages/ost/s1/refine_inventory.py:451: FutureWarning: The frame.append method is deprecated and will be removed from pandas in a future version. Use pandas.concat instead.\n",
      "  out_frame = out_frame.append(temp_df)\n"
     ]
    }
   ],
   "source": [
    "# refine inventory\n",
    "s1_grd.refine_inventory()"
   ]
  },
  {
   "cell_type": "code",
   "execution_count": null,
   "metadata": {},
   "outputs": [],
   "source": [
    "# plot again\n",
    "# pylab.rcParams[\"figure.figsize\"] = (19, 19)\n",
    "# key = \"ASCENDING_VVVH\"\n",
    "# s1_grd.refined_inventory_dict[key]\n",
    "# s1_grd.plot_inventory(s1_grd.refined_inventory_dict[key], 0.1)"
   ]
  },
  {
   "cell_type": "code",
   "execution_count": 4,
   "metadata": {},
   "outputs": [
    {
     "name": "stdout",
     "output_type": "stream",
     "text": [
      " INFO (11:53:07): All scenes are ready for being processed.\n"
     ]
    }
   ],
   "source": [
    "# download ascending orbit images\n",
    "key = \"ASCENDING_VVVH\"\n",
    "s1_grd.download(s1_grd.refined_inventory_dict[key], concurrent=10, mirror = '2', uname='langdav', pword='SoLaDaSon_160317')"
   ]
  },
  {
   "cell_type": "code",
   "execution_count": 5,
   "metadata": {},
   "outputs": [],
   "source": [
    "# define ard product specification\n",
    "from pprint import pprint\n",
    "# pprint(s1_grd.ard_parameters[\"single_ARD\"])\n",
    "\n",
    "s1_grd.ard_parameters[\"single_ARD\"][\"resolution\"] = 10  # set output resolution to 100m\n",
    "s1_grd.ard_parameters[\"single_ARD\"][\"remove_speckle\"] = True  # apply a speckle filter\n",
    "s1_grd.ard_parameters[\"single_ARD\"][\"to_db\"] = True\n",
    "# s1_grd.ard_parameters[\"mosaic\"][\"cut_to_aoi\"] = False\n",
    "# s1_grd.ard_parameters[\"single_ARD\"][\"apply_ls_mask\"] = True\n",
    "# s1_grd.ard_parameters[\"single_ARD\"][\"to_tif\"] = True\n",
    "# s1_grd.ard_parameters[\"single_ARD\"][\"out_projection\"] = 3857"
   ]
  },
  {
   "cell_type": "code",
   "execution_count": 6,
   "metadata": {},
   "outputs": [
    {
     "name": "stdout",
     "output_type": "stream",
     "text": [
      " INFO (11:53:32): Deleting processing folder to start from scratch\n",
      " INFO (11:53:32): Processing acquisition from 20200507 over track 15.\n",
      " INFO (11:53:32): Processing acquisition from 20200501 over track 15.\n",
      " INFO (11:53:32): Processing acquisition from 20200513 over track 15.\n",
      " INFO (11:53:32): Processing acquisition from 20200519 over track 15.\n",
      " INFO (11:53:32): Processing acquisition from 20200531 over track 15.\n",
      " INFO (11:53:32): Processing acquisition from 20200525 over track 15.\n",
      "Executing processing graph\n",
      "Executing processing graph\n",
      "Executing processing graph\n",
      "Executing processing graph\n",
      "Executing processing graph\n",
      "Executing processing graph\n",
      "15%30%45%60%.70%15%30%45%60%.70%15%15%30%45%60%.70%30%45%60%.70%.15%30%45%60%.70%90%15%30%45%60%.70%...90%90%90%.90%.90% done.\n",
      " done.\n",
      " done.\n",
      " done.\n",
      " done.\n",
      " done.\n",
      "Executing operator...\n",
      "20%Executing operator...\n",
      "20%140% done.\n",
      "60%180% done.\n",
      "100%60%Writing...\n",
      ".13%Writing...\n",
      ".13%Executing operator...\n",
      "20%Executing operator...\n",
      "20%Executing operator...\n",
      "20%Executing operator...\n",
      "20%.60%180%100%60% done.\n",
      "100%60%180% done.\n",
      ".Writing...\n",
      ".13%60%Writing...\n",
      ".13%60%100%140% done.\n",
      "100%60%180% done.\n",
      "Writing...\n",
      ".13%Writing...\n",
      ".13%100% done.\n",
      "100% done.\n",
      ".60%.60%..60%60%100% done.\n",
      "100% done.\n",
      "100% done.\n",
      "100% done.\n",
      "Executing processing graph\n",
      "Executing processing graph\n",
      "Executing processing graph\n",
      "Executing processing graph\n",
      "Executing processing graph\n",
      "Executing processing graph\n",
      "18%36%54%.18%36%54%.18%36%54%.18%36%54%.18%36%54%.18%36%54%.72%72%90%72%72%72%90%90%90%72%90%90% done.\n",
      " done.\n",
      " done.\n",
      " done.\n",
      " done.\n",
      " done.\n",
      "Executing operator...\n",
      "20%60%Executing operator...\n",
      "20%Executing operator...\n",
      "20%100%140% done.\n",
      "Writing...\n",
      ".13%Executing operator...\n",
      "20%60%100% done.\n",
      "Writing...\n",
      ".13%60%140%100% done.\n",
      "Writing...\n",
      ".13%.60%60%100% done.\n",
      "Writing...\n",
      ".13%Executing operator...\n",
      "20%.100% done.\n",
      "60%.60%Executing operator...\n",
      "20%.60%100% done.\n",
      "100% done.\n",
      "60%100% done.\n",
      "Writing...\n",
      ".13%100% done.\n",
      "60%100%140% done.\n",
      "Writing...\n",
      ".13%.60%.60%100% done.\n",
      "100% done.\n",
      "Executing operator...\n",
      "20%Executing operator...\n",
      "20%Executing operator...\n",
      "20%Executing operator...\n",
      "20%Executing operator...\n",
      "20%Executing operator...\n",
      "20%60%100%140% done.\n",
      "Writing...\n",
      ".13%180%100%100% done.\n",
      "Writing...\n",
      ".13%60%100% done.\n",
      "Writing...\n",
      ".13%.60%60%100% done.\n",
      "Writing...\n",
      ".13%.60%100% done.\n",
      ".60%.100% done.\n",
      "60%100% done.\n",
      "60%140%100% done.\n",
      "Writing...\n",
      "100% done.\n",
      ".13%.60%140%60%60% done.\n",
      "Writing...\n",
      ".13%100% done.\n",
      ".60%100% done.\n",
      "Executing operator...\n",
      "20%Executing operator...\n",
      "20%140% done.\n",
      "Writing...\n",
      ".13%60%Executing operator...\n",
      "20%60%100% done.\n",
      "Writing...\n",
      ".13%140% done.\n",
      "60%Writing...\n",
      ".13%.60%.60%Executing operator...\n",
      "20%.100% done.\n",
      "60%100%60%180% done.\n",
      "Writing...\n",
      ".13%100% done.\n",
      "100% done.\n",
      "Executing operator...\n",
      "20%.60%60%140%100% done.\n",
      "Writing...\n",
      ".13%100% done.\n",
      ".60%100% done.\n",
      "Executing operator...\n",
      "20%60%100%140% done.\n",
      "Writing...\n",
      ".13%.60%100% done.\n",
      "Executing operator...\n",
      "20%Executing operator...\n",
      "20%Executing operator...\n",
      "20%Executing operator...\n",
      "20%Executing operator...\n",
      "20%Executing operator...\n",
      "20%60%100% done.\n",
      "Writing...\n",
      ".13%60%100% done.\n",
      "Writing...\n",
      ".13%.60%100%140% done.\n",
      "60%Writing...\n",
      ".13%.60%100% done.\n",
      ".60%100% done.\n",
      "100% done.\n",
      "60%140% done.\n",
      "Writing...\n",
      ".13%"
     ]
    },
    {
     "name": "stderr",
     "output_type": "stream",
     "text": [
      "/home/david/Documents/Python/sen1_ost/.venv/lib/python3.8/site-packages/ost/s1/grd_batch.py:86: FutureWarning: The frame.append method is deprecated and will be removed from pandas in a future version. Use pandas.concat instead.\n",
      "  df = df.append(temp_df)\n",
      "/home/david/Documents/Python/sen1_ost/.venv/lib/python3.8/site-packages/ost/s1/grd_batch.py:137: FutureWarning: The frame.append method is deprecated and will be removed from pandas in a future version. Use pandas.concat instead.\n",
      "  processing_df = processing_df.append(temp_df)\n",
      "/home/david/Documents/Python/sen1_ost/.venv/lib/python3.8/site-packages/ost/s1/grd_batch.py:86: FutureWarning: The frame.append method is deprecated and will be removed from pandas in a future version. Use pandas.concat instead.\n",
      "  df = df.append(temp_df)\n",
      "/home/david/Documents/Python/sen1_ost/.venv/lib/python3.8/site-packages/ost/s1/grd_batch.py:137: FutureWarning: The frame.append method is deprecated and will be removed from pandas in a future version. Use pandas.concat instead.\n",
      "  processing_df = processing_df.append(temp_df)\n",
      "/home/david/Documents/Python/sen1_ost/.venv/lib/python3.8/site-packages/ost/s1/grd_batch.py:86: FutureWarning: The frame.append method is deprecated and will be removed from pandas in a future version. Use pandas.concat instead.\n",
      "  df = df.append(temp_df)\n",
      "/home/david/Documents/Python/sen1_ost/.venv/lib/python3.8/site-packages/ost/s1/grd_batch.py:137: FutureWarning: The frame.append method is deprecated and will be removed from pandas in a future version. Use pandas.concat instead.\n",
      "  processing_df = processing_df.append(temp_df)\n"
     ]
    },
    {
     "name": "stdout",
     "output_type": "stream",
     "text": [
      ".60%180% done.\n",
      "100%100%Writing...\n",
      ".13%100% done.\n",
      ".60%100% done.\n"
     ]
    },
    {
     "name": "stderr",
     "output_type": "stream",
     "text": [
      "/home/david/Documents/Python/sen1_ost/.venv/lib/python3.8/site-packages/ost/s1/grd_batch.py:86: FutureWarning: The frame.append method is deprecated and will be removed from pandas in a future version. Use pandas.concat instead.\n",
      "  df = df.append(temp_df)\n",
      "/home/david/Documents/Python/sen1_ost/.venv/lib/python3.8/site-packages/ost/s1/grd_batch.py:137: FutureWarning: The frame.append method is deprecated and will be removed from pandas in a future version. Use pandas.concat instead.\n",
      "  processing_df = processing_df.append(temp_df)\n"
     ]
    },
    {
     "name": "stdout",
     "output_type": "stream",
     "text": [
      "180%100% done.\n",
      "100%Writing...\n",
      ".13%.60%"
     ]
    },
    {
     "name": "stderr",
     "output_type": "stream",
     "text": [
      "/home/david/Documents/Python/sen1_ost/.venv/lib/python3.8/site-packages/ost/s1/grd_batch.py:86: FutureWarning: The frame.append method is deprecated and will be removed from pandas in a future version. Use pandas.concat instead.\n",
      "  df = df.append(temp_df)\n",
      "/home/david/Documents/Python/sen1_ost/.venv/lib/python3.8/site-packages/ost/s1/grd_batch.py:137: FutureWarning: The frame.append method is deprecated and will be removed from pandas in a future version. Use pandas.concat instead.\n",
      "  processing_df = processing_df.append(temp_df)\n"
     ]
    },
    {
     "name": "stdout",
     "output_type": "stream",
     "text": [
      "100% done.\n"
     ]
    },
    {
     "name": "stderr",
     "output_type": "stream",
     "text": [
      "/home/david/Documents/Python/sen1_ost/.venv/lib/python3.8/site-packages/ost/s1/grd_batch.py:86: FutureWarning: The frame.append method is deprecated and will be removed from pandas in a future version. Use pandas.concat instead.\n",
      "  df = df.append(temp_df)\n",
      "/home/david/Documents/Python/sen1_ost/.venv/lib/python3.8/site-packages/ost/s1/grd_batch.py:137: FutureWarning: The frame.append method is deprecated and will be removed from pandas in a future version. Use pandas.concat instead.\n",
      "  processing_df = processing_df.append(temp_df)\n"
     ]
    },
    {
     "data": {
      "text/html": [
       "<div>\n",
       "<style scoped>\n",
       "    .dataframe tbody tr th:only-of-type {\n",
       "        vertical-align: middle;\n",
       "    }\n",
       "\n",
       "    .dataframe tbody tr th {\n",
       "        vertical-align: top;\n",
       "    }\n",
       "\n",
       "    .dataframe thead th {\n",
       "        text-align: right;\n",
       "    }\n",
       "</style>\n",
       "<table border=\"1\" class=\"dataframe\">\n",
       "  <thead>\n",
       "    <tr style=\"text-align: right;\">\n",
       "      <th></th>\n",
       "      <th>identifier</th>\n",
       "      <th>outfile</th>\n",
       "      <th>out_ls</th>\n",
       "      <th>error</th>\n",
       "    </tr>\n",
       "  </thead>\n",
       "  <tbody>\n",
       "  </tbody>\n",
       "</table>\n",
       "</div>"
      ],
      "text/plain": [
       "Empty DataFrame\n",
       "Columns: [identifier, outfile, out_ls, error]\n",
       "Index: []"
      ]
     },
     "execution_count": 6,
     "metadata": {},
     "output_type": "execute_result"
    }
   ],
   "source": [
    "# preprocess\n",
    "s1_grd.grds_to_ards(\n",
    "    inventory_df=s1_grd.refined_inventory_dict[key],\n",
    "    timeseries=False,\n",
    "    timescan=False,\n",
    "    mosaic=True,\n",
    "    overwrite=True,\n",
    "    max_workers=8,\n",
    ")"
   ]
  },
  {
   "cell_type": "code",
   "execution_count": 7,
   "metadata": {},
   "outputs": [],
   "source": [
    "# convert img to tiff\n",
    "import gdal\n",
    "import os\n",
    "\n",
    "for u in ['Gamma0_VV_db','Gamma0_VH_db']:\n",
    "# for u in ['Gamma0_VV','Gamma0_VH']:\n",
    "    paths = list(Path(project_dir).rglob(str(u + '.img')))\n",
    "    for i in paths:\n",
    "        inpath = str(i)\n",
    "        outpath = str(project_dir) + '/out/' + u + '_' + os.path.split(os.path.split(os.path.split(i)[0])[0])[1] + '.tiff'\n",
    "        ds = gdal.Open(inpath)\n",
    "        ds = gdal.Translate(outpath, ds)\n",
    "        ds = None\n",
    "        raster.mask_by_shape(outpath,outpath, str(project_dir) + '/aoi/' + aoi_file, rescale=False, description=False, to_db=False)\n",
    "\n",
    "# %%bash\n",
    "# gdal_translate -of GTiff /home/david/OST_Tutorials/Tutorial_1/15/20220509/20220509_15_bs.data/Gamma0_VH_db.img /home/david/OST_Tutorials/Tutorial_1/15/20220509/20220509_15_bs.data/Gamma0_VH_db.tiff"
   ]
  },
  {
   "cell_type": "code",
   "execution_count": null,
   "metadata": {},
   "outputs": [],
   "source": []
  }
 ],
 "metadata": {
  "kernelspec": {
   "display_name": ".venv",
   "language": "python",
   "name": "python3"
  },
  "language_info": {
   "codemirror_mode": {
    "name": "ipython",
    "version": 3
   },
   "file_extension": ".py",
   "mimetype": "text/x-python",
   "name": "python",
   "nbconvert_exporter": "python",
   "pygments_lexer": "ipython3",
   "version": "3.8.10"
  },
  "orig_nbformat": 4,
  "vscode": {
   "interpreter": {
    "hash": "6a39816dcc8b88b94572d8555cbad429f905f0d0fbff328d2952bce6ebe67ac7"
   }
  }
 },
 "nbformat": 4,
 "nbformat_minor": 2
}
