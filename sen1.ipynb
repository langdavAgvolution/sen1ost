{
 "cells": [
  {
   "cell_type": "code",
   "execution_count": 2,
   "metadata": {},
   "outputs": [
    {
     "name": "stdout",
     "output_type": "stream",
     "text": [
      "/home/david/Documents/R/s14soil/src/sen1_ost/data\n",
      " INFO (15:30:01): Created project directory at /home/david/Documents/R/s14soil/src/sen1_ost/data\n",
      " INFO (15:30:01): Downloaded data will be stored in: /home/david/Documents/R/s14soil/src/sen1_ost/data/download.\n",
      " INFO (15:30:01): Inventory files will be stored in: /home/david/Documents/R/s14soil/src/sen1_ost/data/inventory.\n",
      " INFO (15:30:01): Processed data will be stored in: /home/david/Documents/R/s14soil/src/sen1_ost/data/processing.\n",
      " INFO (15:30:01): Using /home/david/Documents/R/s14soil/src/sen1_ost/data/temp as directory for temporary files.\n",
      " INFO (15:30:01): Created project directory at /home/david/Documents/R/s14soil/src/sen1_ost/data\n",
      " INFO (15:30:01): Downloaded data will be stored in: /home/david/Documents/R/s14soil/src/sen1_ost/data/download.\n",
      " INFO (15:30:01): Inventory files will be stored in: /home/david/Documents/R/s14soil/src/sen1_ost/data/inventory.\n",
      " INFO (15:30:01): Processed data will be stored in: /home/david/Documents/R/s14soil/src/sen1_ost/data/processing.\n",
      " INFO (15:30:01): Using /home/david/Documents/R/s14soil/src/sen1_ost/data/temp as directory for temporary files.\n",
      " INFO (15:30:01): Writing inventory data to geopackage file: /home/david/Documents/R/s14soil/src/sen1_ost/data/inventory/full.inventory.gpkg\n"
     ]
    },
    {
     "name": "stderr",
     "output_type": "stream",
     "text": [
      "/home/david/Documents/R/s14soil/src/sen1_ost/.venv/lib/python3.8/site-packages/ost/s1/search.py:212: FutureWarning: The frame.append method is deprecated and will be removed from pandas in a future version. Use pandas.concat instead.\n",
      "  geo_df = geo_df.append(gdf)\n"
     ]
    }
   ],
   "source": [
    "# search for and download files\n",
    "from pathlib import Path\n",
    "from pprint import pprint\n",
    "from ost.s1 import download\n",
    "from ost.helpers import vector\n",
    "from ost import Sentinel1, Generic\n",
    "\n",
    "# define the project directory\n",
    "project_dir = Path.home() / \"Documents\" / \"R\" / \"s14soil\" / \"src\" / \"sen1_ost\" / \"data\"\n",
    "project_dir.mkdir(parents=True, exist_ok=True)\n",
    "print(str(project_dir))\n",
    "\n",
    "# define aoi\n",
    "aoi = vector.aoi_to_wkt(\"../../data/fieldshapes/test_shape2.geojson\")\n",
    "\n",
    "# define the start and end date\n",
    "start = \"2020-05-01\"\n",
    "end = \"2020-05-31\"\n",
    "\n",
    "# create an OST Generic class instance\n",
    "ost_generic = Generic(project_dir=project_dir, aoi=aoi, start=start, end=end)\n",
    "\n",
    "# initialize the Sentinel1 class\n",
    "ost_s1 = Sentinel1(\n",
    "    project_dir=project_dir,\n",
    "    aoi=aoi,\n",
    "    start=start,\n",
    "    end=end,\n",
    "    product_type=\"GRD\",\n",
    "    beam_mode=\"IW\",\n",
    "    polarisation=\"*\",\n",
    ")\n",
    "\n",
    "# search command\n",
    "# added scihub username and pw in Project.py line 260\n",
    "ost_s1.search()"
   ]
  },
  {
   "cell_type": "code",
   "execution_count": null,
   "metadata": {},
   "outputs": [],
   "source": [
    "# show orbits / plot inventory\n",
    "%matplotlib inline\n",
    "%pylab inline\n",
    "pylab.rcParams[\"figure.figsize\"] = (19, 19)\n",
    "\n",
    "ost_s1.plot_inventory(ost_s1.inventory, transparency=0.1)"
   ]
  },
  {
   "cell_type": "code",
   "execution_count": null,
   "metadata": {},
   "outputs": [],
   "source": [
    "# refine inventory\n",
    "ost_s1.refine_inventory()"
   ]
  },
  {
   "cell_type": "code",
   "execution_count": null,
   "metadata": {},
   "outputs": [],
   "source": [
    "# plot refined inventory\n",
    "pylab.rcParams[\"figure.figsize\"] = (19, 19)\n",
    "\n",
    "# define key to access refined inventory\n",
    "key = \"ASCENDING_VVVH\"\n",
    "\n",
    "ost_s1.refined_inventory_dict[key]\n",
    "ost_s1.plot_inventory(ost_s1.refined_inventory_dict[key], 0.1)"
   ]
  },
  {
   "cell_type": "code",
   "execution_count": 6,
   "metadata": {},
   "outputs": [
    {
     "name": "stdout",
     "output_type": "stream",
     "text": [
      " INFO (15:30:35): All scenes are ready for being processed.\n"
     ]
    }
   ],
   "source": [
    "# download data from refined inventory, defined by key\n",
    "key = \"ASCENDING_VVVH\"\n",
    "ost_s1.download(ost_s1.refined_inventory_dict[key], mirror=\"2\", concurrent=10, uname='langdav', pword='SoLaDaSon_160317')"
   ]
  },
  {
   "cell_type": "code",
   "execution_count": 7,
   "metadata": {},
   "outputs": [
    {
     "ename": "AttributeError",
     "evalue": "'Sentinel1' object has no attribute 'ard_parameters'",
     "output_type": "error",
     "traceback": [
      "\u001b[0;31m---------------------------------------------------------------------------\u001b[0m",
      "\u001b[0;31mAttributeError\u001b[0m                            Traceback (most recent call last)",
      "Cell \u001b[0;32mIn[7], line 2\u001b[0m\n\u001b[1;32m      1\u001b[0m \u001b[39m# set ard parameters\u001b[39;00m\n\u001b[0;32m----> 2\u001b[0m ost_s1\u001b[39m.\u001b[39;49mard_parameters[\u001b[39m\"\u001b[39m\u001b[39msingle_ARD\u001b[39m\u001b[39m\"\u001b[39m][\u001b[39m\"\u001b[39m\u001b[39mresolution\u001b[39m\u001b[39m\"\u001b[39m] \u001b[39m=\u001b[39m \u001b[39m10\u001b[39m  \u001b[39m# set output resolution to 100m\u001b[39;00m\n\u001b[1;32m      3\u001b[0m ost_s1\u001b[39m.\u001b[39mard_parameters[\u001b[39m\"\u001b[39m\u001b[39msingle_ARD\u001b[39m\u001b[39m\"\u001b[39m][\u001b[39m\"\u001b[39m\u001b[39mremove_speckle\u001b[39m\u001b[39m\"\u001b[39m] \u001b[39m=\u001b[39m \u001b[39mTrue\u001b[39;00m  \u001b[39m# apply a speckle filter\u001b[39;00m\n\u001b[1;32m      4\u001b[0m ost_s1\u001b[39m.\u001b[39mard_parameters[\u001b[39m\"\u001b[39m\u001b[39msingle_ARD\u001b[39m\u001b[39m\"\u001b[39m][\u001b[39m\"\u001b[39m\u001b[39mto_db\u001b[39m\u001b[39m\"\u001b[39m] \u001b[39m=\u001b[39m \u001b[39mTrue\u001b[39;00m\n",
      "\u001b[0;31mAttributeError\u001b[0m: 'Sentinel1' object has no attribute 'ard_parameters'"
     ]
    }
   ],
   "source": [
    "# set ard parameters\n",
    "ost_s1.ard_parameters[\"single_ARD\"][\"resolution\"] = 10  # set output resolution to 100m\n",
    "ost_s1.ard_parameters[\"single_ARD\"][\"remove_speckle\"] = True  # apply a speckle filter\n",
    "ost_s1.ard_parameters[\"single_ARD\"][\"to_db\"] = True\n",
    "# ost_s1.ard_parameters[\"single_ARD\"][\"to_tif\"] = True\n",
    "# ost_s1.ard_parameters[\"single_ARD\"][\"out_projection\"] = 3857"
   ]
  },
  {
   "cell_type": "code",
   "execution_count": null,
   "metadata": {},
   "outputs": [],
   "source": [
    "#preprocessing\n",
    "ost_s1.create_ard(\n",
    "    infile=ost_s1.get_path(project_dir), \n",
    "    out_dir=project_dir,\n",
    "    subset=aoi,\n",
    "    overwrite=True)"
   ]
  },
  {
   "cell_type": "code",
   "execution_count": null,
   "metadata": {},
   "outputs": [],
   "source": [
    "# convert img to tiff\n",
    "import gdal\n",
    "import os\n",
    "from pathlib import Path\n",
    "for u in ['Gamma0_VV_db','Gamma0_VH_db']:\n",
    "    paths = list(Path(project_dir).rglob(str(u + '.img')))\n",
    "    for i in paths:\n",
    "        inpath = str(i)\n",
    "        outpath = '/home/david/OST_Tutorials/out/' + u + '_' + os.path.split(os.path.split(os.path.split(i)[0])[0])[1] + '.tiff'\n",
    "        ds = gdal.Open(inpath)\n",
    "        ds = gdal.Translate(outpath, ds)\n",
    "        ds = None\n",
    "\n",
    "# %%bash\n",
    "# gdal_translate -of GTiff /home/david/OST_Tutorials/Tutorial_1/15/20220509/20220509_15_bs.data/Gamma0_VH_db.img /home/david/OST_Tutorials/Tutorial_1/15/20220509/20220509_15_bs.data/Gamma0_VH_db.tiff"
   ]
  },
  {
   "cell_type": "code",
   "execution_count": null,
   "metadata": {},
   "outputs": [],
   "source": [
    "# clean\n",
    "# preprocessing\n",
    "# restore download dir (as download was not done with OST)\n",
    "download.restore_download_dir(output_dir, output_dir)\n",
    "\n",
    "\n",
    "for i in range(len(products_df)):\n",
    "    # convert to Sentinel1Scene to work with Open SAR Toolkit\n",
    "    s1 = Sentinel1Scene(products_df.iloc[i][0])\n",
    "\n",
    "    # set ARD (Analysis Ready Data) parameters\n",
    "    # pprint(s1.ard_parameters.keys())\n",
    "    # pprint(s1.ard_parameters)\n",
    "    # pprint(s1.ard_parameters[\"single_ARD\"])\n",
    "    s1.ard_parameters[\"single_ARD\"][\"resolution\"] = 10  # set output resolution to 100m\n",
    "    s1.ard_parameters[\"single_ARD\"][\"remove_speckle\"] = True  # apply a speckle filter\n",
    "    s1.ard_parameters[\"single_ARD\"][\"to_db\"] = True\n",
    "    # s1.ard_parameters[\"single_ARD\"][\"to_tif\"] = True\n",
    "    # s1.ard_parameters[\"single_ARD\"][\"out_projection\"] = 3857\n",
    "\n",
    "    # define AOI\n",
    "    aoi = vector.aoi_to_wkt('../../data/fieldshapes/test_shape2.geojson')\n",
    "\n",
    "    # do preprocessing\n",
    "    s1.create_ard(\n",
    "        infile=s1.get_path(output_dir), \n",
    "        out_dir=output_dir,\n",
    "        subset=aoi,\n",
    "        overwrite=True)\n",
    "\n",
    "    # create RGB color composite\n",
    "    # s1.create_rgb(outfile=output_dir / f\"{s1.start_date}.tiff\")\n",
    "    # %matplotlib inline\n",
    "    # %pylab inline\n",
    "    # pylab.rcParams[\"figure.figsize\"] = (23, 23)\n",
    "    # s1.visualise_rgb(shrink_factor=2)"
   ]
  }
 ],
 "metadata": {
  "kernelspec": {
   "display_name": ".venv",
   "language": "python",
   "name": "python3"
  },
  "language_info": {
   "codemirror_mode": {
    "name": "ipython",
    "version": 3
   },
   "file_extension": ".py",
   "mimetype": "text/x-python",
   "name": "python",
   "nbconvert_exporter": "python",
   "pygments_lexer": "ipython3",
   "version": "3.8.10"
  },
  "orig_nbformat": 4,
  "vscode": {
   "interpreter": {
    "hash": "b30b8cd17b7dc375fec1eae68df6718a56bdbf5e507ab976785ff65182c735db"
   }
  }
 },
 "nbformat": 4,
 "nbformat_minor": 2
}
